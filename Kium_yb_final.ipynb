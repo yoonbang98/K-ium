{
  "cells": [
    {
      "cell_type": "markdown",
      "metadata": {
        "id": "-XaMMVxEvBgV"
      },
      "source": [
        "## K-ium\n",
        "\n",
        "Vital team"
      ]
    },
    {
      "cell_type": "markdown",
      "metadata": {
        "id": "mdDqyfrO0tlY"
      },
      "source": [
        "#### Import package"
      ]
    },
    {
      "cell_type": "code",
      "execution_count": null,
      "metadata": {
        "colab": {
          "base_uri": "https://localhost:8080/"
        },
        "id": "_-WG94kK7V9p",
        "outputId": "fda53669-8773-4162-f821-8219bb1b42dd"
      },
      "outputs": [
        {
          "output_type": "stream",
          "name": "stdout",
          "text": [
            "Mounted at /content/drive\n"
          ]
        }
      ],
      "source": [
        "from google import colab\n",
        "colab.drive.mount(\"/content/drive\")"
      ]
    },
    {
      "cell_type": "code",
      "execution_count": null,
      "metadata": {
        "colab": {
          "base_uri": "https://localhost:8080/"
        },
        "id": "nZJw-rXdikkp",
        "outputId": "8f9cba16-08de-4ffd-e88c-5ccd73039aee"
      },
      "outputs": [
        {
          "output_type": "stream",
          "name": "stdout",
          "text": [
            "/content/drive/MyDrive/Colab Notebooks/Kium/test_set/test_set\n"
          ]
        }
      ],
      "source": [
        "%cd /content/drive/MyDrive/Colab Notebooks/Kium/test_set/test_set/\n",
        "\n",
        "import evaluate\n",
        "from evaluate import calc_accuracy"
      ]
    },
    {
      "cell_type": "code",
      "execution_count": null,
      "metadata": {
        "colab": {
          "base_uri": "https://localhost:8080/"
        },
        "id": "LDacldMA7ptp",
        "outputId": "52fc8060-6086-47f0-a4e5-0cc15d6e3988"
      },
      "outputs": [
        {
          "output_type": "stream",
          "name": "stdout",
          "text": [
            "Collecting timm\n",
            "  Downloading timm-0.9.2-py3-none-any.whl (2.2 MB)\n",
            "\u001b[?25l     \u001b[90m━━━━━━━━━━━━━━━━━━━━━━━━━━━━━━━━━━━━━━━━\u001b[0m \u001b[32m0.0/2.2 MB\u001b[0m \u001b[31m?\u001b[0m eta \u001b[36m-:--:--\u001b[0m\r\u001b[2K     \u001b[90m━━━━━━━━━━━━━━━━━━━━━━━━━━━━━━━━━━━━━━━━\u001b[0m \u001b[32m2.2/2.2 MB\u001b[0m \u001b[31m76.2 MB/s\u001b[0m eta \u001b[36m0:00:00\u001b[0m\n",
            "\u001b[?25hRequirement already satisfied: torch>=1.7 in /usr/local/lib/python3.10/dist-packages (from timm) (2.0.1+cu118)\n",
            "Requirement already satisfied: torchvision in /usr/local/lib/python3.10/dist-packages (from timm) (0.15.2+cu118)\n",
            "Requirement already satisfied: pyyaml in /usr/local/lib/python3.10/dist-packages (from timm) (6.0)\n",
            "Collecting huggingface-hub (from timm)\n",
            "  Downloading huggingface_hub-0.16.4-py3-none-any.whl (268 kB)\n",
            "\u001b[2K     \u001b[90m━━━━━━━━━━━━━━━━━━━━━━━━━━━━━━━━━━━━━━\u001b[0m \u001b[32m268.8/268.8 kB\u001b[0m \u001b[31m26.8 MB/s\u001b[0m eta \u001b[36m0:00:00\u001b[0m\n",
            "\u001b[?25hCollecting safetensors (from timm)\n",
            "  Downloading safetensors-0.3.1-cp310-cp310-manylinux_2_17_x86_64.manylinux2014_x86_64.whl (1.3 MB)\n",
            "\u001b[2K     \u001b[90m━━━━━━━━━━━━━━━━━━━━━━━━━━━━━━━━━━━━━━━━\u001b[0m \u001b[32m1.3/1.3 MB\u001b[0m \u001b[31m81.6 MB/s\u001b[0m eta \u001b[36m0:00:00\u001b[0m\n",
            "\u001b[?25hRequirement already satisfied: filelock in /usr/local/lib/python3.10/dist-packages (from torch>=1.7->timm) (3.12.2)\n",
            "Requirement already satisfied: typing-extensions in /usr/local/lib/python3.10/dist-packages (from torch>=1.7->timm) (4.7.1)\n",
            "Requirement already satisfied: sympy in /usr/local/lib/python3.10/dist-packages (from torch>=1.7->timm) (1.11.1)\n",
            "Requirement already satisfied: networkx in /usr/local/lib/python3.10/dist-packages (from torch>=1.7->timm) (3.1)\n",
            "Requirement already satisfied: jinja2 in /usr/local/lib/python3.10/dist-packages (from torch>=1.7->timm) (3.1.2)\n",
            "Requirement already satisfied: triton==2.0.0 in /usr/local/lib/python3.10/dist-packages (from torch>=1.7->timm) (2.0.0)\n",
            "Requirement already satisfied: cmake in /usr/local/lib/python3.10/dist-packages (from triton==2.0.0->torch>=1.7->timm) (3.25.2)\n",
            "Requirement already satisfied: lit in /usr/local/lib/python3.10/dist-packages (from triton==2.0.0->torch>=1.7->timm) (16.0.6)\n",
            "Requirement already satisfied: fsspec in /usr/local/lib/python3.10/dist-packages (from huggingface-hub->timm) (2023.6.0)\n",
            "Requirement already satisfied: requests in /usr/local/lib/python3.10/dist-packages (from huggingface-hub->timm) (2.27.1)\n",
            "Requirement already satisfied: tqdm>=4.42.1 in /usr/local/lib/python3.10/dist-packages (from huggingface-hub->timm) (4.65.0)\n",
            "Requirement already satisfied: packaging>=20.9 in /usr/local/lib/python3.10/dist-packages (from huggingface-hub->timm) (23.1)\n",
            "Requirement already satisfied: numpy in /usr/local/lib/python3.10/dist-packages (from torchvision->timm) (1.22.4)\n",
            "Requirement already satisfied: pillow!=8.3.*,>=5.3.0 in /usr/local/lib/python3.10/dist-packages (from torchvision->timm) (8.4.0)\n",
            "Requirement already satisfied: MarkupSafe>=2.0 in /usr/local/lib/python3.10/dist-packages (from jinja2->torch>=1.7->timm) (2.1.3)\n",
            "Requirement already satisfied: urllib3<1.27,>=1.21.1 in /usr/local/lib/python3.10/dist-packages (from requests->huggingface-hub->timm) (1.26.16)\n",
            "Requirement already satisfied: certifi>=2017.4.17 in /usr/local/lib/python3.10/dist-packages (from requests->huggingface-hub->timm) (2023.5.7)\n",
            "Requirement already satisfied: charset-normalizer~=2.0.0 in /usr/local/lib/python3.10/dist-packages (from requests->huggingface-hub->timm) (2.0.12)\n",
            "Requirement already satisfied: idna<4,>=2.5 in /usr/local/lib/python3.10/dist-packages (from requests->huggingface-hub->timm) (3.4)\n",
            "Requirement already satisfied: mpmath>=0.19 in /usr/local/lib/python3.10/dist-packages (from sympy->torch>=1.7->timm) (1.3.0)\n",
            "Installing collected packages: safetensors, huggingface-hub, timm\n",
            "Successfully installed huggingface-hub-0.16.4 safetensors-0.3.1 timm-0.9.2\n"
          ]
        }
      ],
      "source": [
        "! pip install timm"
      ]
    },
    {
      "cell_type": "code",
      "execution_count": null,
      "metadata": {
        "colab": {
          "base_uri": "https://localhost:8080/"
        },
        "id": "LlcNsGEk7L5r",
        "outputId": "43e62ff1-089d-48da-de2d-592caa171b97"
      },
      "outputs": [
        {
          "output_type": "stream",
          "name": "stdout",
          "text": [
            "True\n"
          ]
        }
      ],
      "source": [
        "import warnings\n",
        "warnings.filterwarnings('ignore')\n",
        "\n",
        "from glob import glob\n",
        "import pandas as pd\n",
        "import numpy as np\n",
        "from tqdm import tqdm\n",
        "#import cv2\n",
        "\n",
        "import os\n",
        "import timm\n",
        "import random\n",
        "import gc\n",
        "\n",
        "import torch\n",
        "from torch.utils.data import Dataset, DataLoader\n",
        "import torch.nn as nn\n",
        "import torchvision.transforms as transforms\n",
        "import torch.nn.functional as F\n",
        "import torch.optim as optim\n",
        "import collections\n",
        "from sklearn.metrics import roc_auc_score, accuracy_score\n",
        "import time\n",
        "\n",
        "from sklearn.model_selection import StratifiedKFold\n",
        "from PIL import Image\n",
        "from matplotlib import pyplot as plt\n",
        "from sklearn.model_selection import train_test_split\n",
        "\n",
        "\n",
        "device = torch.device('cuda:0')\n",
        "print(torch.cuda.is_available())"
      ]
    },
    {
      "cell_type": "markdown",
      "metadata": {
        "id": "Zpc72WsC08Jc"
      },
      "source": [
        "#### Data preparation"
      ]
    },
    {
      "cell_type": "code",
      "execution_count": null,
      "metadata": {
        "id": "lXH5F_hA7uMl"
      },
      "outputs": [],
      "source": [
        "path = '/content/drive/MyDrive/Colab Notebooks/Kium/train_set/train_set/'\n",
        "save_path = '//content/drive/MyDrive/Colab Notebooks/Kium/train_set/'"
      ]
    },
    {
      "cell_type": "markdown",
      "metadata": {
        "id": "32IdRm_5nYoq"
      },
      "source": [
        "Train set : 8616(1077 x 8), test set : 400(50 x 8)"
      ]
    },
    {
      "cell_type": "code",
      "execution_count": null,
      "metadata": {
        "colab": {
          "base_uri": "https://localhost:8080/"
        },
        "id": "_sATOwB9l9bD",
        "outputId": "bd8d22d8-3c16-4e07-dff8-3a9e17d378c9"
      },
      "outputs": [
        {
          "output_type": "execute_result",
          "data": {
            "text/plain": [
              "Index       -0.061326\n",
              "Aneurysm     1.000000\n",
              "L_ICA        0.335338\n",
              "R_ICA        0.335338\n",
              "L_PCOM       0.192393\n",
              "R_PCOM       0.189538\n",
              "L_AntChor    0.177715\n",
              "R_AntChor    0.136911\n",
              "L_ACA        0.148081\n",
              "R_ACA        0.116091\n",
              "L_ACOM       0.268029\n",
              "R_ACOM       0.177715\n",
              "L_MCA        0.270179\n",
              "R_MCA        0.327925\n",
              "L_VA         0.132994\n",
              "R_VA         0.106692\n",
              "L_PICA       0.055519\n",
              "R_PICA       0.045311\n",
              "L_SCA        0.078621\n",
              "R_SCA        0.064137\n",
              "BA           0.158521\n",
              "L_PCA        0.055519\n",
              "R_PCA        0.032026\n",
              "Name: Aneurysm, dtype: float64"
            ]
          },
          "metadata": {},
          "execution_count": 23
        }
      ],
      "source": [
        "label = pd.read_csv(path +'train.csv')\n",
        "label.corr().Aneurysm"
      ]
    },
    {
      "cell_type": "code",
      "execution_count": null,
      "metadata": {
        "id": "PJKqqNhOobjV"
      },
      "outputs": [],
      "source": [
        "dir = sorted(os.listdir(path))[:-1]"
      ]
    },
    {
      "cell_type": "code",
      "execution_count": null,
      "metadata": {
        "colab": {
          "base_uri": "https://localhost:8080/"
        },
        "id": "aC_v58ppzX72",
        "outputId": "394c5064-2eff-41e9-d38d-8498e1d6752d"
      },
      "outputs": [
        {
          "output_type": "execute_result",
          "data": {
            "text/plain": [
              "9016"
            ]
          },
          "metadata": {},
          "execution_count": 10
        }
      ],
      "source": [
        "len(dir)"
      ]
    },
    {
      "cell_type": "code",
      "execution_count": null,
      "metadata": {
        "id": "hM6YREnWzX73"
      },
      "outputs": [],
      "source": [
        "crop1000 = transforms.Compose(\n",
        "                [\n",
        "                    transforms.CenterCrop(size=(1000,1000)),\n",
        "                ])"
      ]
    },
    {
      "cell_type": "code",
      "execution_count": null,
      "metadata": {
        "colab": {
          "base_uri": "https://localhost:8080/"
        },
        "id": "250SvQWKzX74",
        "outputId": "0a693618-ade6-48cf-a94b-61faceb45566"
      },
      "outputs": [
        {
          "output_type": "stream",
          "name": "stdout",
          "text": [
            "400\n",
            "(720, 720, 3)\n"
          ]
        }
      ],
      "source": [
        "test_img = []\n",
        "for i in range(400):\n",
        "    raw_image_test=Image.open(path+str(dir[i]))\n",
        "    #raw_image_test=temp.copy()\n",
        "    if raw_image_test.size[1]==1000:\n",
        "        crop1000(raw_image_test)\n",
        "\n",
        "    test_img.append(raw_image_test)\n",
        "    #temp.close()\n",
        "\n",
        "print(len(test_img)) #400\n",
        "print(np.array(test_img[0]).shape)"
      ]
    },
    {
      "cell_type": "code",
      "execution_count": null,
      "metadata": {
        "colab": {
          "base_uri": "https://localhost:8080/"
        },
        "id": "N8Zgw-ZvzX74",
        "outputId": "66350fb2-1fb5-4b35-e3e3-984ae489819b"
      },
      "outputs": [
        {
          "output_type": "stream",
          "name": "stdout",
          "text": [
            "400\n"
          ]
        }
      ],
      "source": [
        "from torchvision.transforms.functional import to_pil_image\n",
        "test_image = []\n",
        "\n",
        "tot =0\n",
        "num =0\n",
        "for i in range(len(test_img)//8):\n",
        "    temp_LV = None\n",
        "    temp_RV = None\n",
        "    tot = tot+1\n",
        "    for j in range(8):\n",
        "        temp = test_img[i * 8 + j]\n",
        "        width, height = temp.size # width, height\n",
        "\n",
        "        if j%8==0: #LI-A\n",
        "            temp = temp.crop((width*0.3,height*0.1,width*0.98,height*0.98))#  (left,up, right, down)\n",
        "        elif j%8==1:  #LI-B\n",
        "            temp = temp.crop((width*0.02,height*0.02,width*0.98,height*0.98))\n",
        "        elif j%8==2:  #LV-A\n",
        "            temp = temp.crop((width*0.15,height*0.02,width*0.85,height*0.98))\n",
        "        elif j%8==3:  #LV-B\n",
        "            temp = temp.crop((width*0.02,height*0.1,width*0.98,height*0.98))\n",
        "        elif j%8==4:  #RI-A\n",
        "            temp = temp.crop((width*0.02,height*0.1,width*0.7,height*0.98))\n",
        "        elif j%8==5:  #RI-B\n",
        "            temp = temp.crop((width*0.02,height*0.02,width*0.98,height*0.98))\n",
        "        elif j%8==6:  #RV-A\n",
        "            temp = temp.crop((width*0.15,height*0.02,width*0.85,height*0.98))\n",
        "        elif j%8==7:  #RV-B\n",
        "            temp = temp.crop((width*0.02,height*0.1,width*0.98,height*0.98))\n",
        "        else:\n",
        "            num=num+1\n",
        "\n",
        "        test_image.append(temp)\n",
        "\n",
        "print(len(test_image))"
      ]
    },
    {
      "cell_type": "code",
      "execution_count": null,
      "metadata": {
        "colab": {
          "base_uri": "https://localhost:8080/"
        },
        "id": "Tc5a3-t631xB",
        "outputId": "18a1191f-4e9a-455d-c42b-485baa3375f4"
      },
      "outputs": [
        {
          "name": "stdout",
          "output_type": "stream",
          "text": [
            "8608\n"
          ]
        }
      ],
      "source": [
        "train_img= []\n",
        "\n",
        "for i in range(8616):\n",
        "    if '2417' in str(dir[i+400]): continue\n",
        "    raw_image_train=Image.open(path+str(dir[i+400]))\n",
        "    #raw_image_train = temp.copy()\n",
        "    if raw_image_train.size[1]==1000: # 2000번대 데이터중 이미지 주변의 어두운 픽셀과 글자를 제거하기 위함\n",
        "        raw_image_train = crop1000(raw_image_train)\n",
        "\n",
        "    train_img.append(raw_image_train)\n",
        "    #temp.close()\n",
        "print(len(train_img))"
      ]
    },
    {
      "cell_type": "code",
      "execution_count": null,
      "metadata": {
        "colab": {
          "base_uri": "https://localhost:8080/"
        },
        "id": "Xqfiz0YQzX77",
        "outputId": "95e11fab-c0f4-41fa-81ea-8a0c2dcc18f2"
      },
      "outputs": [
        {
          "name": "stdout",
          "output_type": "stream",
          "text": [
            "8608\n"
          ]
        }
      ],
      "source": [
        "from torchvision.transforms.functional import to_pil_image\n",
        "train_image = []\n",
        "\n",
        "tot =0\n",
        "num =0\n",
        "for i in range(len(train_img)//8):\n",
        "    temp_LV = None\n",
        "    temp_RV = None\n",
        "    tot = tot+1\n",
        "    for j in range(8):\n",
        "        temp = train_img[i * 8 + j]\n",
        "        width, height = temp.size # width, height\n",
        "\n",
        "        if j%8==0: #LI-A\n",
        "            temp = temp.crop((width*0.3,height*0.1,width*0.98,height*0.98))#  (left,up, right, down)\n",
        "        elif j%8==1:  #LI-B\n",
        "            temp = temp.crop((width*0.02,height*0.02,width*0.98,height*0.98))\n",
        "        elif j%8==2:  #LV-A\n",
        "            temp = temp.crop((width*0.15,height*0.02,width*0.85,height*0.98))\n",
        "        elif j%8==3:  #LV-B\n",
        "            temp = temp.crop((width*0.02,height*0.1,width*0.98,height*0.98))\n",
        "        elif j%8==4:  #RI-A\n",
        "            temp = temp.crop((width*0.02,height*0.1,width*0.7,height*0.98))\n",
        "        elif j%8==5:  #RI-B\n",
        "            temp = temp.crop((width*0.02,height*0.02,width*0.98,height*0.98))\n",
        "        elif j%8==6:  #RV-A\n",
        "            temp = temp.crop((width*0.15,height*0.02,width*0.85,height*0.98))\n",
        "        elif j%8==7:  #RV-B\n",
        "            temp = temp.crop((width*0.02,height*0.1,width*0.98,height*0.98))\n",
        "        else:\n",
        "            num=num+1\n",
        "\n",
        "        train_image.append(temp)\n",
        "print(len(train_image))"
      ]
    },
    {
      "cell_type": "code",
      "execution_count": null,
      "metadata": {
        "colab": {
          "base_uri": "https://localhost:8080/"
        },
        "id": "gBSEzckrv-X8",
        "outputId": "849e21a2-f547-4734-eba7-6b3fe0685c52"
      },
      "outputs": [
        {
          "output_type": "stream",
          "name": "stdout",
          "text": [
            "Sum of IL :  287\n",
            "Sum of VL :  50\n"
          ]
        }
      ],
      "source": [
        "label[\"IL_Aneurysm\"] = (label[\"L_ICA\"] + label[\"L_PCOM\"] +label[\"L_AntChor\"]+ label[\"L_ACA\"]+label[\"L_ACOM\"]+ label[\"L_MCA\"])\n",
        "label[\"VL_Aneurysm\"] = (label[\"L_VA\"]+ label[\"L_PICA\"]+ label[\"L_SCA\"]+label[\"BA\"] + label[\"L_PCA\"])\n",
        "#print(\"단순합 : \", sum(label[\"L_Aneurysm\"]))\n",
        "label[\"IL_Aneurysm\"]= (label[\"IL_Aneurysm\"]>0).astype(int)\n",
        "label[\"VL_Aneurysm\"]= (label[\"VL_Aneurysm\"]>0).astype(int)\n",
        "print(\"Sum of IL : \",sum(label[\"IL_Aneurysm\"]))\n",
        "print(\"Sum of VL : \",sum(label[\"VL_Aneurysm\"]))"
      ]
    },
    {
      "cell_type": "code",
      "execution_count": null,
      "metadata": {
        "colab": {
          "base_uri": "https://localhost:8080/"
        },
        "id": "sQJdRS4Fv-bn",
        "outputId": "7d20fb1e-6b43-42dd-dfb2-7452e3a9ae41"
      },
      "outputs": [
        {
          "output_type": "stream",
          "name": "stdout",
          "text": [
            "Sum of IR :  265\n",
            "Sum of VR :  41\n"
          ]
        }
      ],
      "source": [
        "label[\"IR_Aneurysm\"] = (label[\"R_ICA\"] + label[\"R_PCOM\"] +label[\"R_AntChor\"]+ label[\"R_ACA\"]+label[\"R_ACOM\"]+ label[\"R_MCA\"])\n",
        "label[\"VR_Aneurysm\"] = (label[\"R_VA\"]+ label[\"R_PICA\"]+ label[\"R_SCA\"]+label[\"BA\"] + label[\"R_PCA\"])\n",
        "#print(\"단순합 : \", sum(label[\"L_Aneurysm\"]))\n",
        "label[\"IR_Aneurysm\"]= (label[\"IR_Aneurysm\"]>0).astype(int)\n",
        "label[\"VR_Aneurysm\"]= (label[\"VR_Aneurysm\"]>0).astype(int)\n",
        "print(\"Sum of IR : \",sum(label[\"IR_Aneurysm\"]))\n",
        "print(\"Sum of VR : \",sum(label[\"VR_Aneurysm\"]))"
      ]
    },
    {
      "cell_type": "code",
      "execution_count": null,
      "metadata": {
        "colab": {
          "base_uri": "https://localhost:8080/"
        },
        "id": "RJZJ2WzXv-fo",
        "outputId": "0252ac60-91a9-47a1-e9e7-120bf1203d8e"
      },
      "outputs": [
        {
          "output_type": "execute_result",
          "data": {
            "text/plain": [
              "((8608,), (50,))"
            ]
          },
          "metadata": {},
          "execution_count": 32
        }
      ],
      "source": [
        "train_label = label.iloc[50:]\n",
        "train_label.drop(943, axis = 0, inplace = True) #2417 제거\n",
        "test_label = label.iloc[:50]\n",
        "\n",
        "train_a_LI = np.array(train_label.IL_Aneurysm)\n",
        "train_a_LV = np.array(train_label.VL_Aneurysm)\n",
        "train_a_RI = np.array(train_label.IR_Aneurysm)\n",
        "train_a_RV = np.array(train_label.VR_Aneurysm)\n",
        "\n",
        "train_a_concat = np.concatenate([[train_a_LI],[train_a_LI],[train_a_LV],[train_a_LV],[train_a_RI],[train_a_RI],[train_a_RV],[train_a_RV]], axis = 0).transpose()  # 지역별 인당 이미지가 4개 -> label 복제\n",
        "train_aneurysm = train_a_concat.reshape(-1,)\n",
        "\n",
        "test_a = np.array(test_label.Aneurysm)\n",
        "\n",
        "train_aneurysm.shape, test_a.shape"
      ]
    },
    {
      "cell_type": "markdown",
      "metadata": {
        "id": "UD8sbqQXgGPV"
      },
      "source": [
        "### 1. Aneurysm prediction"
      ]
    },
    {
      "cell_type": "markdown",
      "metadata": {
        "id": "JMgy0AF18HDB"
      },
      "source": [
        "#### Define custom dataset and pretrained model(ResNet)"
      ]
    },
    {
      "cell_type": "code",
      "execution_count": null,
      "metadata": {
        "id": "9eDP0Jrc1ojR"
      },
      "outputs": [],
      "source": [
        "class Custom_dataset(Dataset):\n",
        "    def __init__(self, img_paths, labels, mode='train'):\n",
        "        self.img_paths = img_paths\n",
        "        self.labels = labels\n",
        "        self.mode=mode\n",
        "    def __len__(self):\n",
        "        return len(self.img_paths)\n",
        "    def __getitem__(self, idx):\n",
        "        img = self.img_paths[idx]\n",
        "        if self.mode == 'train':\n",
        "            train_transform = transforms.Compose([\n",
        "                #transforms.Grayscale(),\n",
        "                transforms.RandomRotation((-45, 45)),\n",
        "                transforms.RandomHorizontalFlip(p=0.2),\n",
        "                transforms.RandomVerticalFlip(p=0.2),\n",
        "\n",
        "                transforms.ToTensor(),\n",
        "                transforms.Resize(size = (768, 768)),\n",
        "                #transforms.Normalize([183, 183, 183], [29, 29, 29])\n",
        "            ])\n",
        "            img = train_transform(img)\n",
        "\n",
        "\n",
        "        if self.mode == 'test':\n",
        "            test_transform = transforms.Compose([\n",
        "                #transforms.Grayscale(),\n",
        "                transforms.ToTensor(),\n",
        "                transforms.Resize(size = (768, 768)),\n",
        "                #transforms.Normalize([183, 183, 183], [29, 29, 29])\n",
        "            ])\n",
        "            img = test_transform(img)\n",
        "\n",
        "\n",
        "\n",
        "        label = self.labels[idx]\n",
        "        return img, label\n",
        "\n",
        "class Network_for_Aneurysm(nn.Module):\n",
        "    def __init__(self,mode = 'train'):\n",
        "        super(Network_for_Aneurysm, self).__init__()\n",
        "        self.mode = mode\n",
        "        if self.mode == 'train':\n",
        "            self.model = timm.create_model('resnet50',pretrained=True, num_classes=1, drop_path_rate = 0.2, in_chans = 3) # pretrained_model : Resnet\n",
        "        if self.mode == 'test':\n",
        "            self.model = timm.create_model('resnet50',pretrained=True, num_classes=1, drop_path_rate = 0, in_chans = 3)\n",
        "        self.activation = nn.Sigmoid()\n",
        "\n",
        "    def forward(self, x):\n",
        "        x = self.model(x)\n",
        "        x = self.activation(x)\n",
        "        return x\n"
      ]
    },
    {
      "cell_type": "code",
      "execution_count": null,
      "metadata": {
        "id": "38qk8sGbYiO_"
      },
      "outputs": [],
      "source": [
        "def score_function(real, pred):\n",
        "    score = roc_auc_score(real, pred)\n",
        "    return score\n",
        "\n",
        "def score_function2(real, pred):\n",
        "    score = accuracy_score(real, pred)\n",
        "    return score"
      ]
    },
    {
      "cell_type": "code",
      "execution_count": null,
      "metadata": {
        "id": "EnOG2n30-Dz5"
      },
      "outputs": [],
      "source": [
        "def main(seed = 2023):\n",
        "    os.environ['PYTHONHASHSEED'] = str(seed)\n",
        "    random.seed(seed)\n",
        "    np.random.seed(seed)\n",
        "    torch.manual_seed(seed)\n",
        "    torch.cuda.manual_seed(seed)\n",
        "    torch.cuda.manual_seed_all(seed)\n",
        "    torch.backends.cudnn.benchmark = True\n",
        "\n",
        "main(2023)"
      ]
    },
    {
      "cell_type": "markdown",
      "metadata": {
        "id": "EBtCXDqu87YG"
      },
      "source": [
        "#### Aneurysm_Training"
      ]
    },
    {
      "cell_type": "markdown",
      "metadata": {
        "id": "5y1BxsYPzX8H"
      },
      "source": [
        "5-fold"
      ]
    },
    {
      "cell_type": "code",
      "execution_count": null,
      "metadata": {
        "colab": {
          "background_save": true,
          "base_uri": "https://localhost:8080/",
          "height": 1000,
          "referenced_widgets": [
            "b9ce7f539a9448289d249181029fc657",
            "1124c428c81544bbbec179238a37233f",
            "afa70980b0234a3ebb5f2424371df184",
            "d556d877c89a40bc96f1ac0c09db298d",
            "56e3437c30d842fba3fec70b0e2804e5",
            "02be39e62f6c4670a1da0621ae7d5765",
            "d78c486254e044249cf8c33e381ffe87",
            "fc82365278c34662add490863facd923",
            "311b61eb91f94558bdb96fed5d25cf99",
            "387e47524a8d4dcf93e5835bf8f99ab9",
            "9e55765ef5c4404cb86df214a0950bda"
          ]
        },
        "id": "as9pCLwjzX8H",
        "outputId": "0f9f0d0c-4495-4afc-a56d-85196a2300ad"
      },
      "outputs": [
        {
          "name": "stdout",
          "output_type": "stream",
          "text": [
            "----------fold_2 start!----------\n"
          ]
        },
        {
          "data": {
            "application/vnd.jupyter.widget-view+json": {
              "model_id": "b9ce7f539a9448289d249181029fc657",
              "version_major": 2,
              "version_minor": 0
            },
            "text/plain": [
              "Downloading model.safetensors:   0%|          | 0.00/102M [00:00<?, ?B/s]"
            ]
          },
          "metadata": {},
          "output_type": "display_data"
        },
        {
          "name": "stdout",
          "output_type": "stream",
          "text": [
            "-----------------SAVE:1 epoch----------------\n",
            "epoch : 1/40    time : 196s/7632s\n",
            "TRAIN    loss : 0.39838    roc : 0.64992\n",
            "Val    loss : 0.38322    roc : 0.72655\n",
            "-----------------SAVE:2 epoch----------------\n",
            "epoch : 2/40    time : 171s/6485s\n",
            "TRAIN    loss : 0.37070    roc : 0.71971\n",
            "Val    loss : 0.42862    roc : 0.73760\n",
            "-----------------SAVE:3 epoch----------------\n",
            "epoch : 3/40    time : 172s/6369s\n",
            "TRAIN    loss : 0.36459    roc : 0.73601\n",
            "Val    loss : 0.36819    roc : 0.74838\n",
            "-----------------SAVE:4 epoch----------------\n",
            "epoch : 4/40    time : 171s/6159s\n",
            "TRAIN    loss : 0.36040    roc : 0.74836\n",
            "Val    loss : 0.36022    roc : 0.76817\n",
            "epoch : 5/40    time : 170s/5942s\n",
            "TRAIN    loss : 0.35189    roc : 0.76203\n",
            "Val    loss : 0.37745    roc : 0.72799\n",
            "-----------------SAVE:6 epoch----------------\n",
            "epoch : 6/40    time : 173s/5889s\n",
            "TRAIN    loss : 0.34987    roc : 0.76779\n",
            "Val    loss : 0.34919    roc : 0.77829\n",
            "epoch : 7/40    time : 170s/5608s\n",
            "TRAIN    loss : 0.34781    roc : 0.77411\n",
            "Val    loss : 0.34892    roc : 0.77825\n",
            "-----------------SAVE:8 epoch----------------\n",
            "epoch : 8/40    time : 171s/5479s\n",
            "TRAIN    loss : 0.34001    roc : 0.78633\n",
            "Val    loss : 0.36252    roc : 0.79102\n",
            "-----------------SAVE:9 epoch----------------\n",
            "epoch : 9/40    time : 171s/5306s\n",
            "TRAIN    loss : 0.34340    roc : 0.78073\n",
            "Val    loss : 0.34181    roc : 0.79291\n",
            "-----------------SAVE:10 epoch----------------\n",
            "epoch : 10/40    time : 171s/5143s\n",
            "TRAIN    loss : 0.34085    roc : 0.78863\n",
            "Val    loss : 0.33429    roc : 0.79977\n",
            "-----------------SAVE:11 epoch----------------\n",
            "epoch : 11/40    time : 171s/4970s\n",
            "TRAIN    loss : 0.33398    roc : 0.79849\n",
            "Val    loss : 0.33345    roc : 0.80303\n",
            "-----------------SAVE:12 epoch----------------\n",
            "epoch : 12/40    time : 172s/4822s\n",
            "TRAIN    loss : 0.33299    roc : 0.80135\n",
            "Val    loss : 0.34950    roc : 0.81443\n",
            "epoch : 13/40    time : 170s/4595s\n",
            "TRAIN    loss : 0.32938    roc : 0.80582\n",
            "Val    loss : 0.32963    roc : 0.80807\n",
            "-----------------SAVE:14 epoch----------------\n",
            "epoch : 14/40    time : 172s/4461s\n",
            "TRAIN    loss : 0.32477    roc : 0.81509\n",
            "Val    loss : 0.33079    roc : 0.82448\n",
            "epoch : 15/40    time : 170s/4253s\n",
            "TRAIN    loss : 0.32173    roc : 0.82150\n",
            "Val    loss : 0.33038    roc : 0.82183\n",
            "-----------------SAVE:16 epoch----------------\n",
            "epoch : 16/40    time : 171s/4111s\n",
            "TRAIN    loss : 0.31712    roc : 0.82591\n",
            "Val    loss : 0.31571    roc : 0.82711\n",
            "-----------------SAVE:17 epoch----------------\n",
            "epoch : 17/40    time : 171s/3931s\n",
            "TRAIN    loss : 0.31027    roc : 0.83614\n",
            "Val    loss : 0.31332    roc : 0.83430\n",
            "-----------------SAVE:18 epoch----------------\n",
            "epoch : 18/40    time : 172s/3779s\n",
            "TRAIN    loss : 0.30594    roc : 0.84176\n",
            "Val    loss : 0.31207    roc : 0.83941\n",
            "-----------------SAVE:19 epoch----------------\n",
            "epoch : 19/40    time : 172s/3604s\n",
            "TRAIN    loss : 0.30139    roc : 0.84447\n",
            "Val    loss : 0.30059    roc : 0.84843\n",
            "epoch : 20/40    time : 170s/3408s\n",
            "TRAIN    loss : 0.29610    roc : 0.85290\n",
            "Val    loss : 0.31323    roc : 0.83039\n",
            "epoch : 21/40    time : 170s/3234s\n",
            "TRAIN    loss : 0.29773    roc : 0.85233\n",
            "Val    loss : 0.29650    roc : 0.84426\n",
            "epoch : 22/40    time : 171s/3080s\n",
            "TRAIN    loss : 0.29195    roc : 0.85831\n",
            "Val    loss : 0.31822    roc : 0.83449\n",
            "epoch : 23/40    time : 170s/2895s\n",
            "TRAIN    loss : 0.28444    roc : 0.86695\n",
            "Val    loss : 0.30427    roc : 0.83796\n",
            "epoch : 24/40    time : 170s/2725s\n",
            "TRAIN    loss : 0.27963    roc : 0.87167\n",
            "Val    loss : 0.31702    roc : 0.83848\n",
            "epoch : 25/40    time : 171s/2560s\n",
            "TRAIN    loss : 0.27567    roc : 0.87621\n",
            "Val    loss : 0.30350    roc : 0.84369\n",
            "epoch : 26/40    time : 171s/2390s\n",
            "TRAIN    loss : 0.26904    roc : 0.88450\n",
            "Val    loss : 0.31708    roc : 0.83698\n",
            "epoch : 27/40    time : 170s/2213s\n",
            "TRAIN    loss : 0.26271    roc : 0.88945\n",
            "Val    loss : 0.31848    roc : 0.83306\n",
            "epoch : 28/40    time : 171s/2051s\n",
            "TRAIN    loss : 0.25986    roc : 0.89494\n",
            "Val    loss : 0.31774    roc : 0.83002\n",
            "epoch : 29/40    time : 170s/1868s\n",
            "TRAIN    loss : 0.25259    roc : 0.89952\n",
            "Val    loss : 0.30907    roc : 0.84275\n",
            "epoch : 30/40    time : 171s/1707s\n",
            "TRAIN    loss : 0.26008    roc : 0.88993\n",
            "Val    loss : 0.30213    roc : 0.84666\n",
            "epoch : 31/40    time : 171s/1536s\n",
            "TRAIN    loss : 0.25360    roc : 0.89985\n",
            "Val    loss : 0.31606    roc : 0.83894\n",
            "epoch : 32/40    time : 170s/1362s\n",
            "TRAIN    loss : 0.24876    roc : 0.90254\n",
            "Val    loss : 0.32090    roc : 0.83378\n",
            "----------fold_3 start!----------\n",
            "-----------------SAVE:1 epoch----------------\n",
            "epoch : 1/40    time : 171s/6672s\n",
            "TRAIN    loss : 0.40253    roc : 0.64194\n",
            "Val    loss : 0.51676    roc : 0.68494\n",
            "-----------------SAVE:2 epoch----------------\n",
            "epoch : 2/40    time : 172s/6520s\n",
            "TRAIN    loss : 0.37253    roc : 0.71505\n",
            "Val    loss : 0.39800    roc : 0.71676\n",
            "-----------------SAVE:3 epoch----------------\n",
            "epoch : 3/40    time : 172s/6379s\n",
            "TRAIN    loss : 0.36846    roc : 0.72460\n",
            "Val    loss : 0.37496    roc : 0.75477\n",
            "epoch : 4/40    time : 170s/6132s\n",
            "TRAIN    loss : 0.36132    roc : 0.74064\n",
            "Val    loss : 0.36518    roc : 0.75246\n",
            "-----------------SAVE:5 epoch----------------\n",
            "epoch : 5/40    time : 176s/6163s\n",
            "TRAIN    loss : 0.36027    roc : 0.75111\n",
            "Val    loss : 0.35051    roc : 0.77673\n",
            "-----------------SAVE:6 epoch----------------\n",
            "epoch : 6/40    time : 172s/5846s\n",
            "TRAIN    loss : 0.35293    roc : 0.76078\n",
            "Val    loss : 0.36129    roc : 0.77794\n",
            "-----------------SAVE:7 epoch----------------\n",
            "epoch : 7/40    time : 171s/5659s\n",
            "TRAIN    loss : 0.34848    roc : 0.76892\n",
            "Val    loss : 0.35149    roc : 0.78576\n",
            "-----------------SAVE:8 epoch----------------\n",
            "epoch : 8/40    time : 172s/5513s\n",
            "TRAIN    loss : 0.35000    roc : 0.76807\n",
            "Val    loss : 0.35284    roc : 0.80064\n",
            "-----------------SAVE:9 epoch----------------\n",
            "epoch : 9/40    time : 171s/5308s\n",
            "TRAIN    loss : 0.34423    roc : 0.77874\n",
            "Val    loss : 0.34493    roc : 0.80078\n",
            "epoch : 10/40    time : 172s/5148s\n",
            "TRAIN    loss : 0.33707    roc : 0.79178\n",
            "Val    loss : 0.33390    roc : 0.80014\n",
            "-----------------SAVE:11 epoch----------------\n",
            "epoch : 11/40    time : 171s/4967s\n",
            "TRAIN    loss : 0.33847    roc : 0.79275\n",
            "Val    loss : 0.33059    roc : 0.80869\n",
            "-----------------SAVE:12 epoch----------------\n",
            "epoch : 12/40    time : 172s/4811s\n",
            "TRAIN    loss : 0.32996    roc : 0.80579\n",
            "Val    loss : 0.32502    roc : 0.82270\n",
            "epoch : 13/40    time : 171s/4627s\n",
            "TRAIN    loss : 0.32736    roc : 0.80910\n",
            "Val    loss : 0.32815    roc : 0.81011\n",
            "epoch : 14/40    time : 171s/4439s\n",
            "TRAIN    loss : 0.32401    roc : 0.81437\n",
            "Val    loss : 0.35148    roc : 0.77445\n",
            "-----------------SAVE:15 epoch----------------\n",
            "epoch : 15/40    time : 173s/4317s\n",
            "TRAIN    loss : 0.31950    roc : 0.82197\n",
            "Val    loss : 0.32480    roc : 0.82369\n",
            "-----------------SAVE:16 epoch----------------\n",
            "epoch : 16/40    time : 171s/4109s\n",
            "TRAIN    loss : 0.31217    roc : 0.83487\n",
            "Val    loss : 0.33503    roc : 0.83163\n",
            "epoch : 17/40    time : 170s/3911s\n",
            "TRAIN    loss : 0.30772    roc : 0.83997\n",
            "Val    loss : 0.32268    roc : 0.82396\n",
            "-----------------SAVE:18 epoch----------------\n",
            "epoch : 18/40    time : 169s/3724s\n",
            "TRAIN    loss : 0.30318    roc : 0.84333\n",
            "Val    loss : 0.31963    roc : 0.83317\n",
            "epoch : 19/40    time : 169s/3551s\n",
            "TRAIN    loss : 0.30259    roc : 0.84754\n",
            "Val    loss : 0.33811    roc : 0.80328\n",
            "-----------------SAVE:20 epoch----------------\n",
            "epoch : 20/40    time : 170s/3409s\n",
            "TRAIN    loss : 0.29149    roc : 0.85735\n",
            "Val    loss : 0.30774    roc : 0.83971\n",
            "epoch : 21/40    time : 170s/3224s\n",
            "TRAIN    loss : 0.29097    roc : 0.85939\n",
            "Val    loss : 0.33865    roc : 0.83092\n",
            "epoch : 22/40    time : 170s/3051s\n",
            "TRAIN    loss : 0.28771    roc : 0.86312\n",
            "Val    loss : 0.32443    roc : 0.83846\n",
            "-----------------SAVE:23 epoch----------------\n",
            "epoch : 23/40    time : 170s/2894s\n",
            "TRAIN    loss : 0.28631    roc : 0.86271\n",
            "Val    loss : 0.30441    roc : 0.84394\n",
            "epoch : 24/40    time : 170s/2724s\n",
            "TRAIN    loss : 0.27548    roc : 0.87557\n",
            "Val    loss : 0.30681    roc : 0.83825\n",
            "-----------------SAVE:25 epoch----------------\n",
            "epoch : 25/40    time : 170s/2554s\n",
            "TRAIN    loss : 0.27367    roc : 0.87935\n",
            "Val    loss : 0.30847    roc : 0.84961\n",
            "epoch : 26/40    time : 170s/2374s\n",
            "TRAIN    loss : 0.26616    roc : 0.88426\n",
            "Val    loss : 0.31302    roc : 0.83472\n",
            "epoch : 27/40    time : 169s/2200s\n",
            "TRAIN    loss : 0.26248    roc : 0.89099\n",
            "Val    loss : 0.33757    roc : 0.82111\n",
            "epoch : 28/40    time : 169s/2031s\n",
            "TRAIN    loss : 0.26812    roc : 0.88245\n",
            "Val    loss : 0.31281    roc : 0.83467\n",
            "-----------------SAVE:29 epoch----------------\n",
            "epoch : 29/40    time : 171s/1881s\n",
            "TRAIN    loss : 0.25908    roc : 0.89048\n",
            "Val    loss : 0.31385    roc : 0.85067\n",
            "epoch : 30/40    time : 170s/1696s\n",
            "TRAIN    loss : 0.25749    roc : 0.89177\n",
            "Val    loss : 0.32542    roc : 0.83015\n",
            "epoch : 31/40    time : 170s/1526s\n",
            "TRAIN    loss : 0.24433    roc : 0.90514\n",
            "Val    loss : 0.32003    roc : 0.84373\n",
            "epoch : 32/40    time : 169s/1353s\n",
            "TRAIN    loss : 0.24854    roc : 0.90007\n",
            "Val    loss : 0.30416    roc : 0.84944\n",
            "epoch : 33/40    time : 169s/1181s\n",
            "TRAIN    loss : 0.24415    roc : 0.90401\n",
            "Val    loss : 0.30568    roc : 0.83719\n",
            "-----------------SAVE:34 epoch----------------\n",
            "epoch : 34/40    time : 175s/1049s\n",
            "TRAIN    loss : 0.23730    roc : 0.91192\n",
            "Val    loss : 0.30163    roc : 0.85859\n",
            "epoch : 35/40    time : 170s/851s\n",
            "TRAIN    loss : 0.23162    roc : 0.91607\n",
            "Val    loss : 0.30876    roc : 0.84680\n",
            "epoch : 36/40    time : 169s/678s\n",
            "TRAIN    loss : 0.23187    roc : 0.91560\n",
            "Val    loss : 0.33152    roc : 0.82966\n",
            "epoch : 37/40    time : 169s/507s\n",
            "TRAIN    loss : 0.22730    roc : 0.91936\n",
            "Val    loss : 0.34829    roc : 0.83683\n",
            "epoch : 38/40    time : 170s/339s\n",
            "TRAIN    loss : 0.22356    roc : 0.92339\n",
            "Val    loss : 0.39299    roc : 0.83543\n",
            "epoch : 39/40    time : 169s/169s\n",
            "TRAIN    loss : 0.22175    roc : 0.92231\n",
            "Val    loss : 0.42856    roc : 0.83905\n",
            "epoch : 40/40    time : 170s/0s\n",
            "TRAIN    loss : 0.21358    roc : 0.93151\n",
            "Val    loss : 0.33225    roc : 0.82775\n",
            "----------fold_4 start!----------\n",
            "-----------------SAVE:1 epoch----------------\n",
            "epoch : 1/40    time : 177s/6921s\n",
            "TRAIN    loss : 0.40363    roc : 0.64186\n",
            "Val    loss : 0.55509    roc : 0.66895\n",
            "-----------------SAVE:2 epoch----------------\n",
            "epoch : 2/40    time : 170s/6474s\n",
            "TRAIN    loss : 0.37187    roc : 0.71855\n",
            "Val    loss : 0.39361    roc : 0.72616\n",
            "-----------------SAVE:3 epoch----------------\n",
            "epoch : 3/40    time : 170s/6294s\n",
            "TRAIN    loss : 0.36771    roc : 0.72579\n",
            "Val    loss : 0.36812    roc : 0.74200\n",
            "-----------------SAVE:4 epoch----------------\n",
            "epoch : 4/40    time : 170s/6105s\n",
            "TRAIN    loss : 0.36098    roc : 0.74619\n",
            "Val    loss : 0.38137    roc : 0.76110\n",
            "-----------------SAVE:5 epoch----------------\n",
            "epoch : 5/40    time : 175s/6121s\n",
            "TRAIN    loss : 0.35751    roc : 0.75560\n",
            "Val    loss : 0.34860    roc : 0.77908\n",
            "-----------------SAVE:6 epoch----------------\n",
            "epoch : 6/40    time : 171s/5800s\n",
            "TRAIN    loss : 0.35312    roc : 0.75912\n",
            "Val    loss : 0.34471    roc : 0.77944\n",
            "-----------------SAVE:7 epoch----------------\n",
            "epoch : 7/40    time : 171s/5635s\n",
            "TRAIN    loss : 0.35087    roc : 0.76601\n",
            "Val    loss : 0.34622    roc : 0.78515\n",
            "-----------------SAVE:8 epoch----------------\n",
            "epoch : 8/40    time : 170s/5452s\n",
            "TRAIN    loss : 0.34294    roc : 0.77876\n",
            "Val    loss : 0.34558    roc : 0.78529\n",
            "epoch : 9/40    time : 170s/5272s\n",
            "TRAIN    loss : 0.34504    roc : 0.77779\n",
            "Val    loss : 0.35456    roc : 0.77697\n",
            "epoch : 10/40    time : 171s/5127s\n",
            "TRAIN    loss : 0.34160    roc : 0.78317\n",
            "Val    loss : 0.34907    roc : 0.77429\n",
            "-----------------SAVE:11 epoch----------------\n",
            "epoch : 11/40    time : 171s/4959s\n",
            "TRAIN    loss : 0.33217    roc : 0.80149\n",
            "Val    loss : 0.34475    roc : 0.78683\n",
            "-----------------SAVE:12 epoch----------------\n",
            "epoch : 12/40    time : 171s/4782s\n",
            "TRAIN    loss : 0.33620    roc : 0.79544\n",
            "Val    loss : 0.34355    roc : 0.78690\n",
            "-----------------SAVE:13 epoch----------------\n",
            "epoch : 13/40    time : 171s/4626s\n",
            "TRAIN    loss : 0.32907    roc : 0.80535\n",
            "Val    loss : 0.33498    roc : 0.80232\n",
            "epoch : 14/40    time : 170s/4431s\n",
            "TRAIN    loss : 0.32779    roc : 0.80891\n",
            "Val    loss : 0.35009    roc : 0.79473\n",
            "epoch : 15/40    time : 169s/4236s\n",
            "TRAIN    loss : 0.32246    roc : 0.81882\n",
            "Val    loss : 0.34010    roc : 0.79775\n",
            "epoch : 16/40    time : 169s/4059s\n",
            "TRAIN    loss : 0.32607    roc : 0.81508\n",
            "Val    loss : 0.34180    roc : 0.78158\n",
            "-----------------SAVE:17 epoch----------------\n",
            "epoch : 17/40    time : 170s/3914s\n",
            "TRAIN    loss : 0.31479    roc : 0.83012\n",
            "Val    loss : 0.31912    roc : 0.82292\n",
            "epoch : 18/40    time : 170s/3736s\n",
            "TRAIN    loss : 0.31169    roc : 0.83359\n",
            "Val    loss : 0.32217    roc : 0.82060\n",
            "epoch : 19/40    time : 170s/3563s\n",
            "TRAIN    loss : 0.30622    roc : 0.84386\n",
            "Val    loss : 0.31878    roc : 0.81982\n",
            "epoch : 20/40    time : 169s/3373s\n",
            "TRAIN    loss : 0.30763    roc : 0.83921\n",
            "Val    loss : 0.31896    roc : 0.81976\n",
            "-----------------SAVE:21 epoch----------------\n",
            "epoch : 21/40    time : 170s/3231s\n",
            "TRAIN    loss : 0.30046    roc : 0.85053\n",
            "Val    loss : 0.31828    roc : 0.82703\n",
            "epoch : 22/40    time : 169s/3044s\n",
            "TRAIN    loss : 0.29700    roc : 0.85308\n",
            "Val    loss : 0.32005    roc : 0.82385\n",
            "epoch : 23/40    time : 169s/2873s\n",
            "TRAIN    loss : 0.29145    roc : 0.85955\n",
            "Val    loss : 0.32685    roc : 0.82390\n",
            "-----------------SAVE:24 epoch----------------\n",
            "epoch : 24/40    time : 170s/2715s\n",
            "TRAIN    loss : 0.28538    roc : 0.86912\n",
            "Val    loss : 0.31465    roc : 0.83033\n",
            "epoch : 25/40    time : 170s/2547s\n",
            "TRAIN    loss : 0.27944    roc : 0.87265\n",
            "Val    loss : 0.31605    roc : 0.82724\n",
            "-----------------SAVE:26 epoch----------------\n",
            "epoch : 26/40    time : 171s/2398s\n",
            "TRAIN    loss : 0.27655    roc : 0.87615\n",
            "Val    loss : 0.30399    roc : 0.83658\n",
            "epoch : 27/40    time : 171s/2218s\n",
            "TRAIN    loss : 0.27260    roc : 0.87972\n",
            "Val    loss : 0.31193    roc : 0.83463\n",
            "epoch : 28/40    time : 171s/2058s\n",
            "TRAIN    loss : 0.26993    roc : 0.87889\n",
            "Val    loss : 0.33449    roc : 0.82361\n",
            "epoch : 29/40    time : 172s/1887s\n",
            "TRAIN    loss : 0.26166    roc : 0.88921\n",
            "Val    loss : 0.31617    roc : 0.82186\n",
            "-----------------SAVE:30 epoch----------------\n",
            "epoch : 30/40    time : 176s/1764s\n",
            "TRAIN    loss : 0.26034    roc : 0.89136\n",
            "Val    loss : 0.31419    roc : 0.83661\n",
            "epoch : 31/40    time : 173s/1554s\n",
            "TRAIN    loss : 0.25726    roc : 0.89343\n",
            "Val    loss : 0.31705    roc : 0.82890\n",
            "epoch : 32/40    time : 173s/1382s\n",
            "TRAIN    loss : 0.25902    roc : 0.89125\n",
            "Val    loss : 0.30934    roc : 0.83440\n",
            "epoch : 33/40    time : 173s/1211s\n",
            "TRAIN    loss : 0.24647    roc : 0.90486\n",
            "Val    loss : 0.32902    roc : 0.83132\n",
            "epoch : 34/40    time : 173s/1040s\n",
            "TRAIN    loss : 0.24235    roc : 0.90734\n",
            "Val    loss : 0.32838    roc : 0.82053\n",
            "epoch : 35/40    time : 174s/870s\n",
            "TRAIN    loss : 0.23742    roc : 0.91102\n",
            "Val    loss : 0.37459    roc : 0.80360\n",
            "epoch : 36/40    time : 174s/695s\n",
            "TRAIN    loss : 0.23427    roc : 0.91473\n",
            "Val    loss : 0.32321    roc : 0.83009\n",
            "epoch : 37/40    time : 174s/522s\n",
            "TRAIN    loss : 0.22815    roc : 0.91962\n",
            "Val    loss : 0.34511    roc : 0.81605\n",
            "epoch : 38/40    time : 175s/349s\n",
            "TRAIN    loss : 0.22402    roc : 0.92128\n",
            "Val    loss : 0.35310    roc : 0.82573\n",
            "epoch : 39/40    time : 174s/174s\n",
            "TRAIN    loss : 0.21886    roc : 0.92654\n",
            "Val    loss : 0.35736    roc : 0.82377\n",
            "epoch : 40/40    time : 173s/0s\n",
            "TRAIN    loss : 0.21596    roc : 0.92858\n",
            "Val    loss : 0.34081    roc : 0.82778\n",
            "----------fold_5 start!----------\n",
            "-----------------SAVE:1 epoch----------------\n",
            "epoch : 1/40    time : 173s/6764s\n",
            "TRAIN    loss : 0.40462    roc : 0.64738\n",
            "Val    loss : 0.46471    roc : 0.72038\n",
            "epoch : 2/40    time : 173s/6567s\n",
            "TRAIN    loss : 0.36988    roc : 0.72521\n",
            "Val    loss : 0.38483    roc : 0.69583\n",
            "-----------------SAVE:3 epoch----------------\n",
            "epoch : 3/40    time : 174s/6427s\n",
            "TRAIN    loss : 0.36274    roc : 0.73871\n",
            "Val    loss : 0.35866    roc : 0.76875\n",
            "-----------------SAVE:4 epoch----------------\n",
            "epoch : 4/40    time : 173s/6232s\n",
            "TRAIN    loss : 0.35669    roc : 0.75333\n",
            "Val    loss : 0.34951    roc : 0.77032\n",
            "-----------------SAVE:5 epoch----------------\n",
            "epoch : 5/40    time : 174s/6073s\n",
            "TRAIN    loss : 0.35649    roc : 0.75295\n",
            "Val    loss : 0.34296    roc : 0.78469\n",
            "-----------------SAVE:6 epoch----------------\n",
            "epoch : 6/40    time : 174s/5905s\n",
            "TRAIN    loss : 0.35202    roc : 0.76474\n",
            "Val    loss : 0.34829    roc : 0.79485\n",
            "epoch : 7/40    time : 172s/5666s\n",
            "TRAIN    loss : 0.34517    roc : 0.77637\n",
            "Val    loss : 0.34986    roc : 0.77954\n",
            "epoch : 8/40    time : 173s/5522s\n",
            "TRAIN    loss : 0.34411    roc : 0.78290\n",
            "Val    loss : 0.35152    roc : 0.79227\n",
            "-----------------SAVE:9 epoch----------------\n",
            "epoch : 9/40    time : 173s/5370s\n",
            "TRAIN    loss : 0.33929    roc : 0.78869\n",
            "Val    loss : 0.33749    roc : 0.80664\n",
            "-----------------SAVE:10 epoch----------------\n",
            "epoch : 10/40    time : 173s/5197s\n",
            "TRAIN    loss : 0.33729    roc : 0.79338\n",
            "Val    loss : 0.33106    roc : 0.80988\n",
            "epoch : 11/40    time : 172s/4999s\n",
            "TRAIN    loss : 0.33269    roc : 0.80072\n",
            "Val    loss : 0.33483    roc : 0.80297\n",
            "epoch : 12/40    time : 172s/4829s\n",
            "TRAIN    loss : 0.32938    roc : 0.80839\n",
            "Val    loss : 0.33005    roc : 0.80692\n",
            "-----------------SAVE:13 epoch----------------\n",
            "epoch : 13/40    time : 173s/4667s\n",
            "TRAIN    loss : 0.31749    roc : 0.82712\n",
            "Val    loss : 0.32505    roc : 0.82222\n",
            "-----------------SAVE:14 epoch----------------\n",
            "epoch : 14/40    time : 173s/4508s\n",
            "TRAIN    loss : 0.31684    roc : 0.82847\n",
            "Val    loss : 0.32544    roc : 0.82273\n",
            "-----------------SAVE:15 epoch----------------\n",
            "epoch : 15/40    time : 173s/4328s\n",
            "TRAIN    loss : 0.31104    roc : 0.83386\n",
            "Val    loss : 0.31564    roc : 0.83029\n",
            "epoch : 16/40    time : 172s/4128s\n",
            "TRAIN    loss : 0.30827    roc : 0.83678\n",
            "Val    loss : 0.34145    roc : 0.83011\n",
            "-----------------SAVE:17 epoch----------------\n",
            "epoch : 17/40    time : 173s/3980s\n",
            "TRAIN    loss : 0.30430    roc : 0.84171\n",
            "Val    loss : 0.31096    roc : 0.83072\n",
            "-----------------SAVE:18 epoch----------------\n",
            "epoch : 18/40    time : 173s/3805s\n",
            "TRAIN    loss : 0.29643    roc : 0.85201\n",
            "Val    loss : 0.30420    roc : 0.84272\n",
            "-----------------SAVE:19 epoch----------------\n",
            "epoch : 19/40    time : 173s/3637s\n",
            "TRAIN    loss : 0.29835    roc : 0.85220\n",
            "Val    loss : 0.30174    roc : 0.84941\n",
            "epoch : 20/40    time : 173s/3452s\n",
            "TRAIN    loss : 0.28834    roc : 0.86106\n",
            "Val    loss : 0.30790    roc : 0.84163\n",
            "epoch : 21/40    time : 172s/3271s\n",
            "TRAIN    loss : 0.27962    roc : 0.87231\n",
            "Val    loss : 0.31636    roc : 0.83675\n",
            "-----------------SAVE:22 epoch----------------\n",
            "epoch : 22/40    time : 174s/3126s\n",
            "TRAIN    loss : 0.27957    roc : 0.86953\n",
            "Val    loss : 0.30435    roc : 0.85378\n",
            "-----------------SAVE:23 epoch----------------\n",
            "epoch : 23/40    time : 174s/2957s\n",
            "TRAIN    loss : 0.27818    roc : 0.87718\n",
            "Val    loss : 0.29593    roc : 0.85722\n",
            "epoch : 24/40    time : 173s/2762s\n",
            "TRAIN    loss : 0.26547    roc : 0.88621\n",
            "Val    loss : 0.29366    roc : 0.85417\n",
            "epoch : 25/40    time : 172s/2583s\n",
            "TRAIN    loss : 0.26910    roc : 0.88375\n",
            "Val    loss : 0.31396    roc : 0.84194\n",
            "epoch : 26/40    time : 173s/2418s\n",
            "TRAIN    loss : 0.26318    roc : 0.88735\n",
            "Val    loss : 0.29007    roc : 0.85681\n",
            "epoch : 27/40    time : 173s/2249s\n",
            "TRAIN    loss : 0.26638    roc : 0.88402\n",
            "Val    loss : 0.35233    roc : 0.84680\n",
            "epoch : 28/40    time : 173s/2070s\n",
            "TRAIN    loss : 0.25455    roc : 0.89492\n",
            "Val    loss : 0.34106    roc : 0.83985\n",
            "-----------------SAVE:29 epoch----------------\n",
            "epoch : 29/40    time : 174s/1918s\n",
            "TRAIN    loss : 0.25474    roc : 0.89667\n",
            "Val    loss : 0.28753    roc : 0.86682\n",
            "epoch : 30/40    time : 173s/1732s\n",
            "TRAIN    loss : 0.24850    roc : 0.90103\n",
            "Val    loss : 0.30233    roc : 0.85879\n",
            "epoch : 31/40    time : 172s/1550s\n",
            "TRAIN    loss : 0.24141    roc : 0.90944\n",
            "Val    loss : 0.29027    roc : 0.85549\n",
            "epoch : 32/40    time : 173s/1383s\n",
            "TRAIN    loss : 0.24164    roc : 0.90710\n",
            "Val    loss : 0.29784    roc : 0.85453\n",
            "epoch : 33/40    time : 172s/1207s\n",
            "TRAIN    loss : 0.23011    roc : 0.91904\n",
            "Val    loss : 0.30534    roc : 0.85504\n",
            "epoch : 34/40    time : 173s/1035s\n",
            "TRAIN    loss : 0.22842    roc : 0.91743\n",
            "Val    loss : 0.30005    roc : 0.85689\n",
            "epoch : 35/40    time : 173s/864s\n",
            "TRAIN    loss : 0.22703    roc : 0.91917\n",
            "Val    loss : 0.30545    roc : 0.85662\n",
            "epoch : 36/40    time : 172s/690s\n",
            "TRAIN    loss : 0.22732    roc : 0.91763\n",
            "Val    loss : 0.33242    roc : 0.84294\n",
            "epoch : 37/40    time : 173s/519s\n",
            "TRAIN    loss : 0.21443    roc : 0.93026\n",
            "Val    loss : 0.32950    roc : 0.85561\n",
            "epoch : 38/40    time : 173s/346s\n",
            "TRAIN    loss : 0.21641    roc : 0.92922\n",
            "Val    loss : 0.31950    roc : 0.84877\n",
            "epoch : 39/40    time : 172s/172s\n",
            "TRAIN    loss : 0.22032    roc : 0.92519\n",
            "Val    loss : 0.31515    roc : 0.84512\n",
            "epoch : 40/40    time : 170s/0s\n",
            "TRAIN    loss : 0.21787    roc : 0.92458\n",
            "Val    loss : 0.32108    roc : 0.85739\n"
          ]
        }
      ],
      "source": [
        "from sklearn.model_selection import StratifiedKFold\n",
        "\n",
        "cv = StratifiedKFold(n_splits = 5, random_state = 2023, shuffle=True)\n",
        "batch_size = 32\n",
        "epochs = 40\n",
        "pred_ensemble = []\n",
        "best_epoch_list = [0,0,0,0,0]\n",
        "\n",
        "for idx, (train_idx, val_idx) in enumerate(cv.split(train_image, train_aneurysm)): # It is designed to learn each model in each fold.\n",
        "    if idx == 0 : continue\n",
        "\n",
        "    print(\"----------fold_{} start!----------\".format(idx+1))\n",
        "    t_imgs, val_imgs = np.array(train_img)[train_idx],  np.array(train_img)[val_idx]\n",
        "    t_labels, val_labels = np.array(train_aneurysm)[train_idx], np.array(train_aneurysm)[val_idx]\n",
        "\n",
        "    # Train\n",
        "    train_dataset = Custom_dataset(np.array(t_imgs), np.array(t_labels), mode='train')\n",
        "    train_loader = DataLoader(train_dataset, shuffle=True, batch_size=batch_size)\n",
        "\n",
        "  # Val\n",
        "    val_dataset = Custom_dataset(np.array(val_imgs), np.array(val_labels), mode='test')\n",
        "    val_loader = DataLoader(val_dataset, shuffle=True, batch_size= batch_size)\n",
        "\n",
        "    gc.collect()\n",
        "    torch.cuda.empty_cache()\n",
        "\n",
        "    model = Network_for_Aneurysm().to(device)\n",
        "\n",
        "    optimizer = torch.optim.Adam(model.parameters(), lr = 2e-4)\n",
        "    criterion = nn.BCELoss()\n",
        "    scaler = torch.cuda.amp.GradScaler()\n",
        "\n",
        "    best_roc = 0\n",
        "    early_stopping = 0\n",
        "\n",
        "    for epoch in range(epochs):\n",
        "        start=time.time()\n",
        "        train_loss = 0\n",
        "        train_pred=[]\n",
        "        train_label=[]\n",
        "        model.train()\n",
        "        for batch in (train_loader):\n",
        "            optimizer.zero_grad()\n",
        "            x = torch.tensor(batch[0], dtype=torch.float32, device=device)\n",
        "            y = torch.tensor(batch[1], dtype=torch.float32, device=device)\n",
        "            with torch.cuda.amp.autocast():\n",
        "                pred = model(x)\n",
        "            loss = criterion(pred.reshape(-1).to(torch.float32),y)\n",
        "\n",
        "            scaler.scale(loss).backward()\n",
        "            scaler.step(optimizer)\n",
        "            scaler.update()\n",
        "\n",
        "            train_loss += loss.item()/len(train_loader)\n",
        "            train_pred += pred.detach().cpu().numpy().tolist()\n",
        "            train_label += y.detach().cpu().numpy().tolist()\n",
        "        train_roc = score_function(train_label, train_pred)\n",
        "        state_dict= model.state_dict()\n",
        "\n",
        "        model.eval()\n",
        "        with torch.no_grad():\n",
        "            val_loss = 0\n",
        "            val_pred = []\n",
        "            val_y = []\n",
        "            for batch in (val_loader):\n",
        "                x_val = torch.tensor(batch[0], dtype = torch.float32, device = device)\n",
        "                y_val = torch.tensor(batch[1], dtype=torch.float32, device=device)\n",
        "                with torch.cuda.amp.autocast():\n",
        "                    pred_val = model(x_val)\n",
        "                loss_val = criterion(pred_val.reshape(-1).to(torch.float32), y_val)\n",
        "\n",
        "                val_loss += loss_val.item()/len(val_loader)\n",
        "                val_pred += pred_val.detach().cpu().numpy().tolist()\n",
        "                val_y += y_val.detach().cpu().numpy().tolist()\n",
        "            val_roc = score_function(val_y, val_pred)\n",
        "\n",
        "            if val_roc > best_roc : # If val_roc is larger than best_roc, model's weights are saved.\n",
        "                best_epoch = epoch\n",
        "                best_epoch_list[idx] = best_epoch\n",
        "                best_loss = val_loss\n",
        "                best_roc = val_roc\n",
        "                early_stopping = 0\n",
        "\n",
        "                torch.save({'epoch':epoch,\n",
        "                      'state_dict':state_dict,\n",
        "                      'optimizer': optimizer.state_dict(),\n",
        "                      'scaler': scaler.state_dict(),}\n",
        "                     , save_path +'best_resnet_fold{}_epoch{}.pth'.format(idx+1,epoch+1))\n",
        "                print('-----------------SAVE:{} epoch----------------'.format(best_epoch+1))\n",
        "\n",
        "\n",
        "            else:\n",
        "                early_stopping += 1\n",
        "\n",
        "            # Early Stopping\n",
        "            if early_stopping == 13:\n",
        "                TIME = time.time() - start\n",
        "                print(f'epoch : {epoch+1}/{epochs}    time : {TIME:.0f}s/{TIME*(epochs-epoch-1):.0f}s')\n",
        "                print(f'TRAIN    loss : {train_loss:.5f}    roc : {train_roc:.5f}')\n",
        "                print(f'Val    loss : {val_loss:.5f}    roc : {val_roc:.5f}')\n",
        "                break\n",
        "\n",
        "        TIME = time.time() - start\n",
        "        print(f'epoch : {epoch+1}/{epochs}    time : {TIME:.0f}s/{TIME*(epochs-epoch-1):.0f}s')\n",
        "        print(f'TRAIN    loss : {train_loss:.5f}    roc : {train_roc:.5f}')\n",
        "        print(f'Val    loss : {val_loss:.5f}    roc : {val_roc:.5f}')\n"
      ]
    },
    {
      "cell_type": "markdown",
      "metadata": {
        "id": "S7wBEf9p-ywr"
      },
      "source": [
        "#### Aneurysm_Test"
      ]
    },
    {
      "cell_type": "markdown",
      "metadata": {
        "id": "E-GXynlrzX8I"
      },
      "source": [
        "Ensemble"
      ]
    },
    {
      "cell_type": "code",
      "execution_count": null,
      "metadata": {
        "colab": {
          "base_uri": "https://localhost:8080/"
        },
        "id": "wPLJ6kBNzX8I",
        "outputId": "475add25-acad-4b06-ace6-4b61f52f9e25"
      },
      "outputs": [
        {
          "output_type": "stream",
          "name": "stdout",
          "text": [
            "----------Fold1 prediction start----------\n",
            "Fold1 prediction mean roc: 0.8099838969404187\n",
            "Fold1 prediction max roc: 0.7906602254428341\n",
            "----------Fold2 prediction start----------\n",
            "Fold2 prediction mean roc: 0.7310789049919484\n",
            "Fold2 prediction max roc: 0.7423510466988728\n",
            "----------Fold3 prediction start----------\n",
            "Fold3 prediction mean roc: 0.8051529790660225\n",
            "Fold3 prediction max roc: 0.7681159420289855\n",
            "----------Fold4 prediction start----------\n",
            "Fold4 prediction mean roc: 0.821256038647343\n",
            "Fold4 prediction max roc: 0.7906602254428341\n",
            "----------Fold5 prediction start----------\n",
            "Fold5 prediction mean roc: 0.7954911433172303\n",
            "Fold5 prediction max roc: 0.7584541062801933\n"
          ]
        }
      ],
      "source": [
        "best_epochs = [34,19,29,26,29]\n",
        "pred_prob = []\n",
        "pred_ensemble = []\n",
        "pred_ensemble2 = []\n",
        "\n",
        "batch_size = 8\n",
        "gc.collect()\n",
        "torch.cuda.empty_cache()\n",
        "# Test\n",
        "test_dataset = Custom_dataset(np.array(test_image), np.array([\"tmp\"]*len(test_image)), mode='test')\n",
        "test_loader = DataLoader(test_dataset, shuffle=False, batch_size=batch_size)\n",
        "\n",
        "for i in range(5): # Ten prediction results were obtained using the ten stored model weights.\n",
        "    if i == 1 : continue\n",
        "    print('----------Fold{} prediction start----------'.format(i+1))\n",
        "    model_test = Network_for_Aneurysm(mode = 'test').to(device)\n",
        "    model_test.load_state_dict(torch.load((save_path +'best_resnet_fold{}_epoch{}.pth'.format(i+1,best_epochs[i])))['state_dict'])\n",
        "    model_test.eval()\n",
        "    pred_A = []\n",
        "    with torch.no_grad():\n",
        "        for batch in (test_loader):\n",
        "            x = torch.tensor(batch[0], dtype = torch.float32, device = device)\n",
        "            with torch.cuda.amp.autocast():\n",
        "                pred = model_test(x)\n",
        "                pred_A.append(pred.detach().cpu().numpy().tolist())\n",
        "        pred_ensemble.append(np.mean(pred_A, axis = 1))\n",
        "        pred_ensemble2.append(np.max(pred_A, axis = 1))\n",
        "    pred_prob.append(pred_A)\n",
        "    print('Fold{} prediction mean roc: {}'.format(i+1,roc_auc_score(test_label.Aneurysm, np.mean(pred_A, axis = 1))))\n",
        "    print('Fold{} prediction max roc: {}'.format(i+1,roc_auc_score(test_label.Aneurysm, np.max(pred_A, axis = 1))))\n"
      ]
    },
    {
      "cell_type": "code",
      "execution_count": null,
      "metadata": {
        "id": "DagsHKQmzX8I",
        "outputId": "c40065c2-1f10-4d04-be5a-9c794fd2991f",
        "colab": {
          "base_uri": "https://localhost:8080/"
        }
      },
      "outputs": [
        {
          "output_type": "execute_result",
          "data": {
            "text/plain": [
              "(0.8099838969404187, 0.8051529790660226)"
            ]
          },
          "metadata": {},
          "execution_count": 130
        }
      ],
      "source": [
        "roc_auc_score(test_label.Aneurysm, np.max(pred_ensemble, axis = 0)), roc_auc_score(test_label.Aneurysm, np.mean(pred_ensemble2, axis = 0))"
      ]
    },
    {
      "cell_type": "code",
      "source": [
        "auc = roc_auc_score(test_label.Aneurysm, np.max(pred_ensemble, axis = 0))"
      ],
      "metadata": {
        "id": "4VDyG7q2H1Y4"
      },
      "execution_count": null,
      "outputs": []
    },
    {
      "cell_type": "markdown",
      "metadata": {
        "id": "RXKBJFhbAd0R"
      },
      "source": [
        "### Location prediction"
      ]
    },
    {
      "cell_type": "code",
      "source": [
        "location = test_label.drop(columns = [\"Index\", 'Aneurysm'])\n",
        "output_location = location.copy()\n",
        "output_location[output_location == 1] = 0\n",
        "\n",
        "LI = np.mean(np.mean(pred_prob, axis = 0)[:, [0,1]], axis = 1)\n",
        "RI = np.mean(np.mean(pred_prob, axis = 0)[:, [4,5]], axis = 1)\n",
        "\n",
        "LI_prediction = np.where(LI > 0.55,1,0)\n",
        "RI_prediction = np.where(RI > 0.55,1,0)\n",
        "\n",
        "output_location[\"L_ICA\"] = LI_prediction\n",
        "output_location[\"R_ICA\"] = RI_prediction"
      ],
      "metadata": {
        "id": "WrwNJ4DMGTRo"
      },
      "execution_count": null,
      "outputs": []
    },
    {
      "cell_type": "code",
      "source": [
        "calc_accuracy(location, output_location)"
      ],
      "metadata": {
        "colab": {
          "base_uri": "https://localhost:8080/"
        },
        "id": "JVOZL4OcBtch",
        "outputId": "6ed2ae56-cf00-488b-f099-f600671bc020"
      },
      "execution_count": null,
      "outputs": [
        {
          "output_type": "execute_result",
          "data": {
            "text/plain": [
              "0.9392"
            ]
          },
          "metadata": {},
          "execution_count": 133
        }
      ]
    },
    {
      "cell_type": "code",
      "source": [
        "acc = calc_accuracy(location, output_location)"
      ],
      "metadata": {
        "id": "xKZhj6e_H5kA"
      },
      "execution_count": null,
      "outputs": []
    },
    {
      "cell_type": "markdown",
      "source": [
        "### AUC & ACC"
      ],
      "metadata": {
        "id": "WFrgmRL1IEVP"
      }
    },
    {
      "cell_type": "code",
      "source": [
        "print('AUROC of the provided model')\n",
        "print (auc)\n",
        "print('Accuracy for locations')\n",
        "print (acc)"
      ],
      "metadata": {
        "colab": {
          "base_uri": "https://localhost:8080/"
        },
        "id": "b1HTfd8NHDCN",
        "outputId": "4715978f-f528-4c61-eb1d-64cad85fafca"
      },
      "execution_count": null,
      "outputs": [
        {
          "output_type": "stream",
          "name": "stdout",
          "text": [
            "AUROC of the provided model\n",
            "0.8099838969404187\n",
            "Accuracy for locations\n",
            "0.9392\n"
          ]
        }
      ]
    }
  ],
  "metadata": {
    "accelerator": "GPU",
    "colab": {
      "machine_shape": "hm",
      "provenance": [],
      "collapsed_sections": [
        "RXKBJFhbAd0R"
      ],
      "gpuType": "T4",
      "toc_visible": true
    },
    "kernelspec": {
      "display_name": "Python 3",
      "name": "python3"
    },
    "language_info": {
      "codemirror_mode": {
        "name": "ipython",
        "version": 3
      },
      "file_extension": ".py",
      "mimetype": "text/x-python",
      "name": "python",
      "nbconvert_exporter": "python",
      "pygments_lexer": "ipython3",
      "version": "3.9.12"
    },
    "widgets": {
      "application/vnd.jupyter.widget-state+json": {
        "02be39e62f6c4670a1da0621ae7d5765": {
          "model_module": "@jupyter-widgets/base",
          "model_module_version": "1.2.0",
          "model_name": "LayoutModel",
          "state": {
            "_model_module": "@jupyter-widgets/base",
            "_model_module_version": "1.2.0",
            "_model_name": "LayoutModel",
            "_view_count": null,
            "_view_module": "@jupyter-widgets/base",
            "_view_module_version": "1.2.0",
            "_view_name": "LayoutView",
            "align_content": null,
            "align_items": null,
            "align_self": null,
            "border": null,
            "bottom": null,
            "display": null,
            "flex": null,
            "flex_flow": null,
            "grid_area": null,
            "grid_auto_columns": null,
            "grid_auto_flow": null,
            "grid_auto_rows": null,
            "grid_column": null,
            "grid_gap": null,
            "grid_row": null,
            "grid_template_areas": null,
            "grid_template_columns": null,
            "grid_template_rows": null,
            "height": null,
            "justify_content": null,
            "justify_items": null,
            "left": null,
            "margin": null,
            "max_height": null,
            "max_width": null,
            "min_height": null,
            "min_width": null,
            "object_fit": null,
            "object_position": null,
            "order": null,
            "overflow": null,
            "overflow_x": null,
            "overflow_y": null,
            "padding": null,
            "right": null,
            "top": null,
            "visibility": null,
            "width": null
          }
        },
        "1124c428c81544bbbec179238a37233f": {
          "model_module": "@jupyter-widgets/controls",
          "model_module_version": "1.5.0",
          "model_name": "HTMLModel",
          "state": {
            "_dom_classes": [],
            "_model_module": "@jupyter-widgets/controls",
            "_model_module_version": "1.5.0",
            "_model_name": "HTMLModel",
            "_view_count": null,
            "_view_module": "@jupyter-widgets/controls",
            "_view_module_version": "1.5.0",
            "_view_name": "HTMLView",
            "description": "",
            "description_tooltip": null,
            "layout": "IPY_MODEL_02be39e62f6c4670a1da0621ae7d5765",
            "placeholder": "​",
            "style": "IPY_MODEL_d78c486254e044249cf8c33e381ffe87",
            "value": "Downloading model.safetensors: 100%"
          }
        },
        "311b61eb91f94558bdb96fed5d25cf99": {
          "model_module": "@jupyter-widgets/controls",
          "model_module_version": "1.5.0",
          "model_name": "ProgressStyleModel",
          "state": {
            "_model_module": "@jupyter-widgets/controls",
            "_model_module_version": "1.5.0",
            "_model_name": "ProgressStyleModel",
            "_view_count": null,
            "_view_module": "@jupyter-widgets/base",
            "_view_module_version": "1.2.0",
            "_view_name": "StyleView",
            "bar_color": null,
            "description_width": ""
          }
        },
        "387e47524a8d4dcf93e5835bf8f99ab9": {
          "model_module": "@jupyter-widgets/base",
          "model_module_version": "1.2.0",
          "model_name": "LayoutModel",
          "state": {
            "_model_module": "@jupyter-widgets/base",
            "_model_module_version": "1.2.0",
            "_model_name": "LayoutModel",
            "_view_count": null,
            "_view_module": "@jupyter-widgets/base",
            "_view_module_version": "1.2.0",
            "_view_name": "LayoutView",
            "align_content": null,
            "align_items": null,
            "align_self": null,
            "border": null,
            "bottom": null,
            "display": null,
            "flex": null,
            "flex_flow": null,
            "grid_area": null,
            "grid_auto_columns": null,
            "grid_auto_flow": null,
            "grid_auto_rows": null,
            "grid_column": null,
            "grid_gap": null,
            "grid_row": null,
            "grid_template_areas": null,
            "grid_template_columns": null,
            "grid_template_rows": null,
            "height": null,
            "justify_content": null,
            "justify_items": null,
            "left": null,
            "margin": null,
            "max_height": null,
            "max_width": null,
            "min_height": null,
            "min_width": null,
            "object_fit": null,
            "object_position": null,
            "order": null,
            "overflow": null,
            "overflow_x": null,
            "overflow_y": null,
            "padding": null,
            "right": null,
            "top": null,
            "visibility": null,
            "width": null
          }
        },
        "56e3437c30d842fba3fec70b0e2804e5": {
          "model_module": "@jupyter-widgets/base",
          "model_module_version": "1.2.0",
          "model_name": "LayoutModel",
          "state": {
            "_model_module": "@jupyter-widgets/base",
            "_model_module_version": "1.2.0",
            "_model_name": "LayoutModel",
            "_view_count": null,
            "_view_module": "@jupyter-widgets/base",
            "_view_module_version": "1.2.0",
            "_view_name": "LayoutView",
            "align_content": null,
            "align_items": null,
            "align_self": null,
            "border": null,
            "bottom": null,
            "display": null,
            "flex": null,
            "flex_flow": null,
            "grid_area": null,
            "grid_auto_columns": null,
            "grid_auto_flow": null,
            "grid_auto_rows": null,
            "grid_column": null,
            "grid_gap": null,
            "grid_row": null,
            "grid_template_areas": null,
            "grid_template_columns": null,
            "grid_template_rows": null,
            "height": null,
            "justify_content": null,
            "justify_items": null,
            "left": null,
            "margin": null,
            "max_height": null,
            "max_width": null,
            "min_height": null,
            "min_width": null,
            "object_fit": null,
            "object_position": null,
            "order": null,
            "overflow": null,
            "overflow_x": null,
            "overflow_y": null,
            "padding": null,
            "right": null,
            "top": null,
            "visibility": null,
            "width": null
          }
        },
        "9e55765ef5c4404cb86df214a0950bda": {
          "model_module": "@jupyter-widgets/controls",
          "model_module_version": "1.5.0",
          "model_name": "DescriptionStyleModel",
          "state": {
            "_model_module": "@jupyter-widgets/controls",
            "_model_module_version": "1.5.0",
            "_model_name": "DescriptionStyleModel",
            "_view_count": null,
            "_view_module": "@jupyter-widgets/base",
            "_view_module_version": "1.2.0",
            "_view_name": "StyleView",
            "description_width": ""
          }
        },
        "afa70980b0234a3ebb5f2424371df184": {
          "model_module": "@jupyter-widgets/controls",
          "model_module_version": "1.5.0",
          "model_name": "FloatProgressModel",
          "state": {
            "_dom_classes": [],
            "_model_module": "@jupyter-widgets/controls",
            "_model_module_version": "1.5.0",
            "_model_name": "FloatProgressModel",
            "_view_count": null,
            "_view_module": "@jupyter-widgets/controls",
            "_view_module_version": "1.5.0",
            "_view_name": "ProgressView",
            "bar_style": "success",
            "description": "",
            "description_tooltip": null,
            "layout": "IPY_MODEL_fc82365278c34662add490863facd923",
            "max": 102469840,
            "min": 0,
            "orientation": "horizontal",
            "style": "IPY_MODEL_311b61eb91f94558bdb96fed5d25cf99",
            "value": 102469840
          }
        },
        "b9ce7f539a9448289d249181029fc657": {
          "model_module": "@jupyter-widgets/controls",
          "model_module_version": "1.5.0",
          "model_name": "HBoxModel",
          "state": {
            "_dom_classes": [],
            "_model_module": "@jupyter-widgets/controls",
            "_model_module_version": "1.5.0",
            "_model_name": "HBoxModel",
            "_view_count": null,
            "_view_module": "@jupyter-widgets/controls",
            "_view_module_version": "1.5.0",
            "_view_name": "HBoxView",
            "box_style": "",
            "children": [
              "IPY_MODEL_1124c428c81544bbbec179238a37233f",
              "IPY_MODEL_afa70980b0234a3ebb5f2424371df184",
              "IPY_MODEL_d556d877c89a40bc96f1ac0c09db298d"
            ],
            "layout": "IPY_MODEL_56e3437c30d842fba3fec70b0e2804e5"
          }
        },
        "d556d877c89a40bc96f1ac0c09db298d": {
          "model_module": "@jupyter-widgets/controls",
          "model_module_version": "1.5.0",
          "model_name": "HTMLModel",
          "state": {
            "_dom_classes": [],
            "_model_module": "@jupyter-widgets/controls",
            "_model_module_version": "1.5.0",
            "_model_name": "HTMLModel",
            "_view_count": null,
            "_view_module": "@jupyter-widgets/controls",
            "_view_module_version": "1.5.0",
            "_view_name": "HTMLView",
            "description": "",
            "description_tooltip": null,
            "layout": "IPY_MODEL_387e47524a8d4dcf93e5835bf8f99ab9",
            "placeholder": "​",
            "style": "IPY_MODEL_9e55765ef5c4404cb86df214a0950bda",
            "value": " 102M/102M [00:01&lt;00:00, 90.7MB/s]"
          }
        },
        "d78c486254e044249cf8c33e381ffe87": {
          "model_module": "@jupyter-widgets/controls",
          "model_module_version": "1.5.0",
          "model_name": "DescriptionStyleModel",
          "state": {
            "_model_module": "@jupyter-widgets/controls",
            "_model_module_version": "1.5.0",
            "_model_name": "DescriptionStyleModel",
            "_view_count": null,
            "_view_module": "@jupyter-widgets/base",
            "_view_module_version": "1.2.0",
            "_view_name": "StyleView",
            "description_width": ""
          }
        },
        "fc82365278c34662add490863facd923": {
          "model_module": "@jupyter-widgets/base",
          "model_module_version": "1.2.0",
          "model_name": "LayoutModel",
          "state": {
            "_model_module": "@jupyter-widgets/base",
            "_model_module_version": "1.2.0",
            "_model_name": "LayoutModel",
            "_view_count": null,
            "_view_module": "@jupyter-widgets/base",
            "_view_module_version": "1.2.0",
            "_view_name": "LayoutView",
            "align_content": null,
            "align_items": null,
            "align_self": null,
            "border": null,
            "bottom": null,
            "display": null,
            "flex": null,
            "flex_flow": null,
            "grid_area": null,
            "grid_auto_columns": null,
            "grid_auto_flow": null,
            "grid_auto_rows": null,
            "grid_column": null,
            "grid_gap": null,
            "grid_row": null,
            "grid_template_areas": null,
            "grid_template_columns": null,
            "grid_template_rows": null,
            "height": null,
            "justify_content": null,
            "justify_items": null,
            "left": null,
            "margin": null,
            "max_height": null,
            "max_width": null,
            "min_height": null,
            "min_width": null,
            "object_fit": null,
            "object_position": null,
            "order": null,
            "overflow": null,
            "overflow_x": null,
            "overflow_y": null,
            "padding": null,
            "right": null,
            "top": null,
            "visibility": null,
            "width": null
          }
        }
      }
    }
  },
  "nbformat": 4,
  "nbformat_minor": 0
}